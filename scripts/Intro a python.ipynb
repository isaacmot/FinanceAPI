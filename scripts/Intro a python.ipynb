{
 "cells": [
  {
   "cell_type": "markdown",
   "id": "4bddc275",
   "metadata": {},
   "source": [
    "# Introducción a Python"
   ]
  },
  {
   "cell_type": "markdown",
   "id": "8c19b9ec",
   "metadata": {},
   "source": [
    "#### 1. Variables"
   ]
  },
  {
   "cell_type": "code",
   "execution_count": 10,
   "id": "6973b241",
   "metadata": {},
   "outputs": [],
   "source": [
    "nombre = 'Isaac'\n",
    "apellido = 'Mojica'\n",
    "edad = 20"
   ]
  },
  {
   "cell_type": "code",
   "execution_count": 17,
   "id": "c9183bb6",
   "metadata": {},
   "outputs": [
    {
     "name": "stdout",
     "output_type": "stream",
     "text": [
      "Buenos días Isaac Mojica, de 20 años de edad.\n"
     ]
    }
   ],
   "source": [
    "print(f'Buenos días {nombre} {apellido}, de {edad} años de edad.')"
   ]
  },
  {
   "cell_type": "code",
   "execution_count": 16,
   "id": "70c8587f",
   "metadata": {},
   "outputs": [
    {
     "name": "stdout",
     "output_type": "stream",
     "text": [
      "Buenos días Isaac Mojica, de 20 años de edad.\n"
     ]
    }
   ],
   "source": [
    "print('Buenos días ' + nombre + ' ' + apellido + ', de ' + str(edad) + ' años de edad.')"
   ]
  },
  {
   "cell_type": "code",
   "execution_count": 20,
   "id": "8afef5ca",
   "metadata": {},
   "outputs": [
    {
     "name": "stdout",
     "output_type": "stream",
     "text": [
      "El tiempo que le toma a la luz recorrer 150000000000 metros es 500.3461427972281 segundos.\n"
     ]
    }
   ],
   "source": [
    "velocidad_luz = 299792458\n",
    "distancia = 150000000*1000\n",
    "tiempo = distancia / velocidad_luz\n",
    "print(f'El tiempo que le toma a la luz recorrer {distancia} metros es {tiempo} segundos.')"
   ]
  },
  {
   "cell_type": "markdown",
   "id": "b4432609",
   "metadata": {},
   "source": [
    "#### 2. Operaciones Lógicas"
   ]
  },
  {
   "cell_type": "code",
   "execution_count": 37,
   "id": "00177032",
   "metadata": {},
   "outputs": [],
   "source": [
    "edad = 18\n",
    "sexo = 'hombre'\n",
    "if sexo == 'hombre':\n",
    "    edad_mínima = 18\n",
    "elif sexo == 'mujer':\n",
    "    edad_mínima = 16\n",
    "else:\n",
    "    edad_mínima = 17"
   ]
  },
  {
   "cell_type": "code",
   "execution_count": 38,
   "id": "24acc795",
   "metadata": {},
   "outputs": [
    {
     "name": "stdout",
     "output_type": "stream",
     "text": [
      "Pásale\n"
     ]
    }
   ],
   "source": [
    "if edad >= edad_mínima:\n",
    "    print('Pásale')\n",
    "else:\n",
    "    print(f'No puedes pasar, vuelve en {edad_mínima-edad} años.')"
   ]
  },
  {
   "cell_type": "markdown",
   "id": "e15f339a",
   "metadata": {},
   "source": [
    "#### Estructuras de datos"
   ]
  },
  {
   "cell_type": "code",
   "execution_count": 2,
   "id": "73a8b8c1",
   "metadata": {},
   "outputs": [
    {
     "data": {
      "text/plain": [
       "4"
      ]
     },
     "execution_count": 2,
     "metadata": {},
     "output_type": "execute_result"
    }
   ],
   "source": [
    "amigos = ['Yax','Mau','Mole','Charlo']\n",
    "len(amigos)"
   ]
  },
  {
   "cell_type": "code",
   "execution_count": 3,
   "id": "090abff5",
   "metadata": {},
   "outputs": [],
   "source": [
    "amigos.append('Meya')"
   ]
  },
  {
   "cell_type": "code",
   "execution_count": 4,
   "id": "3c34b4cc",
   "metadata": {},
   "outputs": [
    {
     "data": {
      "text/plain": [
       "['Yax', 'Mau', 'Mole', 'Charlo', 'Meya']"
      ]
     },
     "execution_count": 4,
     "metadata": {},
     "output_type": "execute_result"
    }
   ],
   "source": [
    "amigos"
   ]
  },
  {
   "cell_type": "code",
   "execution_count": 5,
   "id": "a5960726",
   "metadata": {},
   "outputs": [
    {
     "name": "stdout",
     "output_type": "stream",
     "text": [
      "Buenos días Yax\n",
      "Buenos días Mau\n",
      "Buenos días Mole\n",
      "Buenos días Charlo\n",
      "Buenos días Meya\n"
     ]
    }
   ],
   "source": [
    "for amigo in amigos:\n",
    "    print(f'Buenos días {amigo}')"
   ]
  },
  {
   "cell_type": "code",
   "execution_count": 47,
   "id": "2fcfcba1",
   "metadata": {},
   "outputs": [
    {
     "name": "stdout",
     "output_type": "stream",
     "text": [
      "Yax\n",
      "Mau\n",
      "Mole\n",
      "Charlo\n",
      "Meya\n"
     ]
    }
   ],
   "source": [
    "for a in range(len(amigos)):\n",
    "    print(amigos[a])"
   ]
  },
  {
   "cell_type": "markdown",
   "id": "d4c41d26",
   "metadata": {},
   "source": [
    "#### Funciones"
   ]
  },
  {
   "cell_type": "markdown",
   "id": "9be01a7a",
   "metadata": {},
   "source": [
    "#### Crecimiento exponencial"
   ]
  },
  {
   "cell_type": "code",
   "execution_count": 8,
   "id": "0bdc6c3a",
   "metadata": {},
   "outputs": [],
   "source": [
    "import matplotlib.pyplot as plt"
   ]
  },
  {
   "cell_type": "code",
   "execution_count": 17,
   "id": "1495b232",
   "metadata": {},
   "outputs": [],
   "source": [
    "prestamo = 30000\n",
    "tasa_int = 0.07 #mensual\n",
    "sueldo = 8000\n",
    "tiempo = range(13)"
   ]
  },
  {
   "cell_type": "code",
   "execution_count": 20,
   "id": "10e6a8e8",
   "metadata": {},
   "outputs": [],
   "source": [
    "def int_compuesto(capital_inicial, interes, tiempo):\n",
    "    ic = capital_inicial*(1+interes)**tiempo\n",
    "    return ic"
   ]
  },
  {
   "cell_type": "code",
   "execution_count": 19,
   "id": "b1ce4088",
   "metadata": {},
   "outputs": [],
   "source": [
    "historia_deuda = []\n",
    "for t in tiempo:\n",
    "    historia_deuda.append(int_compuesto(prestamo, tasa_int, t))"
   ]
  },
  {
   "cell_type": "code",
   "execution_count": 21,
   "id": "de21c529",
   "metadata": {},
   "outputs": [
    {
     "data": {
      "image/png": "[encoded data removed]",
      "text/plain": [
       "<Figure size 600x400 with 1 Axes>"
      ]
     },
     "metadata": {},
     "output_type": "display_data"
    }
   ],
   "source": [
    "plt.figure(figsize = (6,4))\n",
    "plt.title(f\"Serie de tiempo de mi deuda. Inicial {prestamo} con tasa mensual de {tasa_int*100}%.\")\n",
    "plt.plot(tiempo, historia_deuda, \"g--\")\n",
    "plt.xlabel(\"Tiempo (meses)\")\n",
    "plt.ylabel(\"Dinero\")\n",
    "plt.show()"
   ]
  },
  {
   "cell_type": "markdown",
   "id": "1723b44b",
   "metadata": {},
   "source": [
    "#### Programación Orientada a Objetos"
   ]
  }
 ],
 "metadata": {
  "kernelspec": {
   "display_name": "Python 3 (ipykernel)",
   "language": "python",
   "name": "python3"
  },
  "language_info": {
   "codemirror_mode": {
    "name": "ipython",
    "version": 3
   },
   "file_extension": ".py",
   "mimetype": "text/x-python",
   "name": "python",
   "nbconvert_exporter": "python",
   "pygments_lexer": "ipython3",
   "version": "3.9.12"
  }
 },
 "nbformat": 4,
 "nbformat_minor": 5
}
